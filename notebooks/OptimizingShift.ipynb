{
 "cells": [
  {
   "cell_type": "code",
   "execution_count": 104,
   "metadata": {},
   "outputs": [
    {
     "name": "stdout",
     "output_type": "stream",
     "text": [
      "The autoreload extension is already loaded. To reload it, use:\n",
      "  %reload_ext autoreload\n"
     ]
    }
   ],
   "source": [
    "%load_ext autoreload\n",
    "%autoreload 2\n",
    "import os\n",
    "import torch\n",
    "import argparse\n",
    "import matplotlib.pyplot as plt\n",
    "import sys\n",
    "sys.path.append('../')\n",
    "from models.accelerated_shift_net.accelerated_InnerShiftTriple import AcceleratedInnerShiftTriple\n",
    "from options.train_options import TrainOptions \n"
   ]
  },
  {
   "cell_type": "markdown",
   "metadata": {},
   "source": [
    "# CREATE DEFAULT OPTIONS TO INITIALIZE THE SHIFTMODEL"
   ]
  },
  {
   "cell_type": "code",
   "execution_count": 105,
   "metadata": {},
   "outputs": [],
   "source": [
    "dataroot = '/mnt/hdd2/AIM/DAGM/Class4_def/' # ENTER HERE THE PATH YOU WANT TO USE AS DATAROOT\n",
    "options = '--dataroot {}'.format(dataroot).split(' ')"
   ]
  },
  {
   "cell_type": "code",
   "execution_count": 106,
   "metadata": {},
   "outputs": [],
   "source": [
    "def get_parser(options=None):\n",
    "    parser = TrainOptions()\n",
    "    parser.parse(options=options)\n",
    "    return parser"
   ]
  },
  {
   "cell_type": "code",
   "execution_count": 107,
   "metadata": {},
   "outputs": [
    {
     "name": "stdout",
     "output_type": "stream",
     "text": [
      "----------------- Options ---------------\n",
      "                batchSize: 1                             \n",
      "                    beta1: 0.5                           \n",
      "               bottleneck: 512                           \n",
      "          checkpoints_dir: /mnt/hdd2/AIM/checks          \n",
      "                constrain: MSE                           \n",
      "           continue_train: False                         \n",
      "                 dataroot: /mnt/hdd2/AIM/DAGM/Class4_def/\t[default: /mnt/hdd2/AIM/DAGM/Class4]\n",
      "             dataset_mode: aligned_resized               \n",
      "             display_freq: 10                            \n",
      "               display_id: 1                             \n",
      "            display_ncols: 4                             \n",
      "             display_port: 8097                          \n",
      "           display_server: http://localhost              \n",
      "display_single_pane_ncols: 0                             \n",
      "          display_winsize: 256                           \n",
      "              epoch_count: 1                             \n",
      "                 fineSize: 256                           \n",
      "               fixed_mask: 0                             \n",
      "                 gan_type: vanilla                       \n",
      "               gan_weight: 0.2                           \n",
      "                gp_lambda: 10.0                          \n",
      "                  gpu_ids: 1                             \n",
      "                init_gain: 0.02                          \n",
      "                init_type: normal                        \n",
      "                 input_nc: 3                             \n",
      "                  isTrain: True                          \t[default: None]\n",
      "                 lambda_A: 100                           \n",
      "                 loadSize: 350                           \n",
      "                       lr: 0.0002                        \n",
      "           lr_decay_iters: 50                            \n",
      "                lr_policy: lambda                        \n",
      "            mask_sub_type: rect                          \n",
      "               mask_thred: 1                             \n",
      "                mask_type: random                        \n",
      "         max_dataset_size: inf                           \n",
      "                    model: accelerated_shiftnet          \n",
      "                 nThreads: 2                             \n",
      "               n_layers_D: 3                             \n",
      "                     name: class4_1                      \n",
      "                  ncritic: 5                             \n",
      "                      ndf: 64                            \n",
      "                      ngf: 64                            \n",
      "                    niter: 1000                          \n",
      "              niter_decay: 0                             \n",
      "                  no_flip: False                         \n",
      "                  no_html: False                         \n",
      "                     norm: instance                      \n",
      "                output_nc: 3                             \n",
      "                  overlap: 4                             \n",
      "                    phase: train                         \n",
      "               print_freq: 50                            \n",
      "           resize_or_crop: resize_and_crop               \n",
      "          save_epoch_freq: 2                             \n",
      "         save_latest_freq: 5000                          \n",
      "           serial_batches: False                         \n",
      "                 shift_sz: 1                             \n",
      "                     skip: 0                             \n",
      "                 strength: 1                             \n",
      "                   stride: 1                             \n",
      "                   suffix:                               \n",
      "                threshold: 0.3125                        \n",
      "            triple_weight: 1                             \n",
      "         update_html_freq: 1000                          \n",
      "              use_dropout: False                         \n",
      "                  verbose: False                         \n",
      "              which_epoch: latest                        \n",
      "         which_model_netD: densenet                      \n",
      "         which_model_netG: acc_unet_shift_triple         \n",
      "----------------- End -------------------\n"
     ]
    }
   ],
   "source": [
    "parser = get_parser(options=options)"
   ]
  },
  {
   "cell_type": "markdown",
   "metadata": {},
   "source": [
    "# CREATE INNER_SHIFT_TRIPLE LAYER"
   ]
  },
  {
   "cell_type": "code",
   "execution_count": 108,
   "metadata": {},
   "outputs": [],
   "source": [
    "#from models.InnerShiftTriple import InnerShiftTriple"
   ]
  },
  {
   "cell_type": "code",
   "execution_count": 109,
   "metadata": {},
   "outputs": [],
   "source": [
    "opt = parser.opt\n",
    "#opt"
   ]
  },
  {
   "cell_type": "code",
   "execution_count": 110,
   "metadata": {},
   "outputs": [],
   "source": [
    "inner_shift_triple = AcceleratedInnerShiftTriple(opt.threshold, opt.fixed_mask)"
   ]
  },
  {
   "cell_type": "code",
   "execution_count": 111,
   "metadata": {},
   "outputs": [
    {
     "data": {
      "text/plain": [
       "AcceleratedInnerShiftTriple(threshold: 0.3125 ,triple_weight 1)"
      ]
     },
     "execution_count": 111,
     "metadata": {},
     "output_type": "execute_result"
    }
   ],
   "source": [
    "inner_shift_triple.cuda()"
   ]
  },
  {
   "cell_type": "markdown",
   "metadata": {},
   "source": [
    "# EVALUE SPEED FORWARD"
   ]
  },
  {
   "cell_type": "markdown",
   "metadata": {},
   "source": [
    "### THE SIZE OF THE INPUT TENSOR IS (BATCH_SIZE, 256 * 2 (former | latter), 32, 32). LET CREATE A RANDOM TENSORS AND EVALUTE ITS FORWARD FIRST"
   ]
  },
  {
   "cell_type": "code",
   "execution_count": 112,
   "metadata": {},
   "outputs": [
    {
     "data": {
      "text/plain": [
       "True"
      ]
     },
     "execution_count": 112,
     "metadata": {},
     "output_type": "execute_result"
    }
   ],
   "source": [
    "import numpy as np\n",
    "torch.cuda.is_available()"
   ]
  },
  {
   "cell_type": "markdown",
   "metadata": {},
   "source": [
    "### NOW WE NEED TO SET UP THE MASK"
   ]
  },
  {
   "cell_type": "code",
   "execution_count": 113,
   "metadata": {},
   "outputs": [
    {
     "data": {
      "text/plain": [
       "<matplotlib.image.AxesImage at 0x7ff2c4c51240>"
      ]
     },
     "execution_count": 113,
     "metadata": {},
     "output_type": "execute_result"
    },
    {
     "data": {
      "image/png": "[encoded data removed]",
      "text/plain": [
       "<Figure size 432x288 with 1 Axes>"
      ]
     },
     "metadata": {
      "needs_background": "light"
     },
     "output_type": "display_data"
    }
   ],
   "source": [
    "c, h, w = (1, 256, 256)\n",
    "hh = h//2\n",
    "wh = w//2\n",
    "hm_size = 32\n",
    "mask = np.zeros((1, c, h, w))\n",
    "mask[..., hh - hm_size:hh + hm_size, wh - hm_size:wh + hm_size] = 1\n",
    "#mask[..., h - hh:, :] = 1\n",
    "mask_global=torch.ByteTensor(mask).cuda()#.cpu()\n",
    "plt.imshow(np.squeeze(mask))"
   ]
  },
  {
   "cell_type": "code",
   "execution_count": 114,
   "metadata": {},
   "outputs": [
    {
     "data": {
      "text/plain": [
       "tensor([[0, 0, 0,  ..., 0, 0, 0],\n",
       "        [0, 0, 0,  ..., 0, 0, 0],\n",
       "        [0, 0, 0,  ..., 0, 0, 0],\n",
       "        ...,\n",
       "        [0, 0, 0,  ..., 0, 0, 0],\n",
       "        [0, 0, 0,  ..., 0, 0, 0],\n",
       "        [0, 0, 0,  ..., 0, 0, 0]], device='cuda:1', dtype=torch.uint8)"
      ]
     },
     "execution_count": 114,
     "metadata": {},
     "output_type": "execute_result"
    }
   ],
   "source": [
    "inner_shift_triple.set_mask(mask_global=mask_global, threshold=opt.threshold, layer_to_last=3)"
   ]
  },
  {
   "cell_type": "code",
   "execution_count": 162,
   "metadata": {},
   "outputs": [],
   "source": [
    "x_np = np.random.normal(0, 1, (1, 512, 32, 32))\n",
    "x_tr = torch.FloatTensor(x_np)"
   ]
  },
  {
   "cell_type": "code",
   "execution_count": 168,
   "metadata": {},
   "outputs": [
    {
     "name": "stderr",
     "output_type": "stream",
     "text": [
      "[autoreload of models.accelerated_shift_net.accelerated_InnerShiftTripleFunction failed: Traceback (most recent call last):\n",
      "  File \"/home/tchaton/virtualenvs/labelbox/lib/python3.6/site-packages/IPython/extensions/autoreload.py\", line 244, in check\n",
      "    superreload(m, reload, self.old_objects)\n",
      "  File \"/home/tchaton/virtualenvs/labelbox/lib/python3.6/site-packages/IPython/extensions/autoreload.py\", line 392, in superreload\n",
      "    update_generic(old_obj, new_obj)\n",
      "  File \"/home/tchaton/virtualenvs/labelbox/lib/python3.6/site-packages/IPython/extensions/autoreload.py\", line 329, in update_generic\n",
      "    update(a, b)\n",
      "  File \"/home/tchaton/virtualenvs/labelbox/lib/python3.6/site-packages/IPython/extensions/autoreload.py\", line 287, in update_class\n",
      "    if update_generic(old_obj, new_obj): continue\n",
      "  File \"/home/tchaton/virtualenvs/labelbox/lib/python3.6/site-packages/IPython/extensions/autoreload.py\", line 329, in update_generic\n",
      "    update(a, b)\n",
      "  File \"/home/tchaton/virtualenvs/labelbox/lib/python3.6/site-packages/IPython/extensions/autoreload.py\", line 287, in update_class\n",
      "    if update_generic(old_obj, new_obj): continue\n",
      "  File \"/home/tchaton/virtualenvs/labelbox/lib/python3.6/site-packages/IPython/extensions/autoreload.py\", line 329, in update_generic\n",
      "    update(a, b)\n",
      "  File \"/home/tchaton/virtualenvs/labelbox/lib/python3.6/site-packages/IPython/extensions/autoreload.py\", line 287, in update_class\n",
      "    if update_generic(old_obj, new_obj): continue\n",
      "  File \"/home/tchaton/virtualenvs/labelbox/lib/python3.6/site-packages/IPython/extensions/autoreload.py\", line 329, in update_generic\n",
      "    update(a, b)\n",
      "  File \"/home/tchaton/virtualenvs/labelbox/lib/python3.6/site-packages/IPython/extensions/autoreload.py\", line 287, in update_class\n",
      "    if update_generic(old_obj, new_obj): continue\n",
      "RecursionError: maximum recursion depth exceeded\n",
      "]\n"
     ]
    },
    {
     "name": "stdout",
     "output_type": "stream",
     "text": [
      "128 ms ± 14.1 ms per loop (mean ± std. dev. of 7 runs, 10 loops each)\n"
     ]
    }
   ],
   "source": [
    "%timeit output = inner_shift_triple(x_tr.cuda())\n",
    "#output = inner_shift_triple(x_tr.cuda())\n",
    "#flag, indexes, ind_lst = inner_shift_triple(x_tr.cuda())"
   ]
  },
  {
   "cell_type": "code",
   "execution_count": 20,
   "metadata": {},
   "outputs": [
    {
     "name": "stderr",
     "output_type": "stream",
     "text": [
      "[autoreload of models.accelerated_shift_net.accelerated_InnerShiftTripleFunction failed: Traceback (most recent call last):\n",
      "  File \"/home/tchaton/virtualenvs/labelbox/lib/python3.6/site-packages/IPython/extensions/autoreload.py\", line 244, in check\n",
      "    superreload(m, reload, self.old_objects)\n",
      "  File \"/home/tchaton/virtualenvs/labelbox/lib/python3.6/site-packages/IPython/extensions/autoreload.py\", line 392, in superreload\n",
      "    update_generic(old_obj, new_obj)\n",
      "  File \"/home/tchaton/virtualenvs/labelbox/lib/python3.6/site-packages/IPython/extensions/autoreload.py\", line 329, in update_generic\n",
      "    update(a, b)\n",
      "  File \"/home/tchaton/virtualenvs/labelbox/lib/python3.6/site-packages/IPython/extensions/autoreload.py\", line 287, in update_class\n",
      "    if update_generic(old_obj, new_obj): continue\n",
      "  File \"/home/tchaton/virtualenvs/labelbox/lib/python3.6/site-packages/IPython/extensions/autoreload.py\", line 329, in update_generic\n",
      "    update(a, b)\n",
      "  File \"/home/tchaton/virtualenvs/labelbox/lib/python3.6/site-packages/IPython/extensions/autoreload.py\", line 287, in update_class\n",
      "    if update_generic(old_obj, new_obj): continue\n",
      "  File \"/home/tchaton/virtualenvs/labelbox/lib/python3.6/site-packages/IPython/extensions/autoreload.py\", line 329, in update_generic\n",
      "    update(a, b)\n",
      "  File \"/home/tchaton/virtualenvs/labelbox/lib/python3.6/site-packages/IPython/extensions/autoreload.py\", line 287, in update_class\n",
      "    if update_generic(old_obj, new_obj): continue\n",
      "  File \"/home/tchaton/virtualenvs/labelbox/lib/python3.6/site-packages/IPython/extensions/autoreload.py\", line 329, in update_generic\n",
      "    update(a, b)\n",
      "  File \"/home/tchaton/virtualenvs/labelbox/lib/python3.6/site-packages/IPython/extensions/autoreload.py\", line 287, in update_class\n",
      "    if update_generic(old_obj, new_obj): continue\n",
      "RecursionError: maximum recursion depth exceeded\n",
      "]\n"
     ]
    },
    {
     "ename": "NameError",
     "evalue": "name 'ind_lst' is not defined",
     "output_type": "error",
     "traceback": [
      "\u001b[0;31m---------------------------------------------------------------------------\u001b[0m",
      "\u001b[0;31mNameError\u001b[0m                                 Traceback (most recent call last)",
      "\u001b[0;32m<ipython-input-20-1b317a9099bd>\u001b[0m in \u001b[0;36m<module>\u001b[0;34m\u001b[0m\n\u001b[0;32m----> 1\u001b[0;31m \u001b[0mind_lst\u001b[0m\u001b[0;34m[\u001b[0m\u001b[0mtuple\u001b[0m\u001b[0;34m(\u001b[0m\u001b[0;34m(\u001b[0m\u001b[0mflag\u001b[0m\u001b[0;34m,\u001b[0m \u001b[0mindexes\u001b[0m\u001b[0;34m)\u001b[0m\u001b[0;34m)\u001b[0m\u001b[0;34m]\u001b[0m \u001b[0;34m=\u001b[0m \u001b[0;36m1\u001b[0m\u001b[0;34m\u001b[0m\u001b[0m\n\u001b[0m",
      "\u001b[0;31mNameError\u001b[0m: name 'ind_lst' is not defined"
     ]
    }
   ],
   "source": [
    "ind_lst[tuple((flag, indexes))] = 1"
   ]
  },
  {
   "cell_type": "code",
   "execution_count": 51,
   "metadata": {},
   "outputs": [
    {
     "data": {
      "text/plain": [
       "tensor(64)"
      ]
     },
     "execution_count": 51,
     "metadata": {},
     "output_type": "execute_result"
    }
   ],
   "source": [
    "torch.sum(ind_lst)"
   ]
  },
  {
   "cell_type": "code",
   "execution_count": null,
   "metadata": {},
   "outputs": [],
   "source": []
  },
  {
   "cell_type": "code",
   "execution_count": 593,
   "metadata": {},
   "outputs": [],
   "source": [
    "x = torch.FloatTensor(np.array(range(1024)))"
   ]
  },
  {
   "cell_type": "code",
   "execution_count": null,
   "metadata": {},
   "outputs": [],
   "source": []
  },
  {
   "cell_type": "code",
   "execution_count": 594,
   "metadata": {},
   "outputs": [],
   "source": [
    "transition_matrx = torch.zeros((1024, 1024))"
   ]
  },
  {
   "cell_type": "code",
   "execution_count": 600,
   "metadata": {},
   "outputs": [
    {
     "data": {
      "text/plain": [
       "tensor([[429],\n",
       "        [215],\n",
       "        [172],\n",
       "        [163],\n",
       "        [400],\n",
       "        [448],\n",
       "        [491],\n",
       "        [ 91],\n",
       "        [111],\n",
       "        [240],\n",
       "        [385],\n",
       "        [ 49],\n",
       "        [122],\n",
       "        [211],\n",
       "        [164],\n",
       "        [223],\n",
       "        [104],\n",
       "        [368],\n",
       "        [253],\n",
       "        [ 34],\n",
       "        [443],\n",
       "        [160],\n",
       "        [389],\n",
       "        [390],\n",
       "        [486],\n",
       "        [354],\n",
       "        [  7],\n",
       "        [379],\n",
       "        [123],\n",
       "        [371],\n",
       "        [449],\n",
       "        [258],\n",
       "        [168],\n",
       "        [217],\n",
       "        [368],\n",
       "        [285],\n",
       "        [ 25],\n",
       "        [179],\n",
       "        [240],\n",
       "        [139],\n",
       "        [209],\n",
       "        [224],\n",
       "        [198],\n",
       "        [239],\n",
       "        [490],\n",
       "        [ 61],\n",
       "        [289],\n",
       "        [260],\n",
       "        [478],\n",
       "        [497],\n",
       "        [385],\n",
       "        [359],\n",
       "        [309],\n",
       "        [110],\n",
       "        [227],\n",
       "        [235],\n",
       "        [ 70],\n",
       "        [352],\n",
       "        [ 12],\n",
       "        [434],\n",
       "        [470],\n",
       "        [145],\n",
       "        [297],\n",
       "        [501],\n",
       "        [444],\n",
       "        [388],\n",
       "        [491],\n",
       "        [437],\n",
       "        [463],\n",
       "        [395],\n",
       "        [355],\n",
       "        [313],\n",
       "        [197],\n",
       "        [ 25],\n",
       "        [438],\n",
       "        [224],\n",
       "        [510],\n",
       "        [433],\n",
       "        [203],\n",
       "        [306],\n",
       "        [  6],\n",
       "        [372],\n",
       "        [178],\n",
       "        [241],\n",
       "        [207],\n",
       "        [280],\n",
       "        [346],\n",
       "        [ 79],\n",
       "        [471],\n",
       "        [205],\n",
       "        [ 67],\n",
       "        [289],\n",
       "        [327],\n",
       "        [450],\n",
       "        [113],\n",
       "        [342],\n",
       "        [349],\n",
       "        [507],\n",
       "        [225],\n",
       "        [352],\n",
       "        [167],\n",
       "        [497],\n",
       "        [146],\n",
       "        [427],\n",
       "        [178],\n",
       "        [294],\n",
       "        [393],\n",
       "        [115],\n",
       "        [ 39],\n",
       "        [ 72],\n",
       "        [232],\n",
       "        [242],\n",
       "        [442],\n",
       "        [ 73],\n",
       "        [451],\n",
       "        [140],\n",
       "        [488],\n",
       "        [387],\n",
       "        [  2],\n",
       "        [476],\n",
       "        [240],\n",
       "        [114],\n",
       "        [444],\n",
       "        [233],\n",
       "        [173],\n",
       "        [ 50],\n",
       "        [170],\n",
       "        [188],\n",
       "        [225],\n",
       "        [355],\n",
       "        [483],\n",
       "        [273],\n",
       "        [168],\n",
       "        [344],\n",
       "        [ 56],\n",
       "        [249],\n",
       "        [388],\n",
       "        [431],\n",
       "        [257],\n",
       "        [ 92],\n",
       "        [ 59],\n",
       "        [ 28],\n",
       "        [ 16],\n",
       "        [499],\n",
       "        [229],\n",
       "        [233],\n",
       "        [115],\n",
       "        [352],\n",
       "        [  3],\n",
       "        [  4],\n",
       "        [241],\n",
       "        [350],\n",
       "        [ 33],\n",
       "        [170],\n",
       "        [ 77],\n",
       "        [ 65],\n",
       "        [298],\n",
       "        [118],\n",
       "        [319],\n",
       "        [107],\n",
       "        [401],\n",
       "        [346],\n",
       "        [508],\n",
       "        [362],\n",
       "        [217],\n",
       "        [494],\n",
       "        [317],\n",
       "        [204],\n",
       "        [ 52],\n",
       "        [ 39],\n",
       "        [323],\n",
       "        [269],\n",
       "        [484],\n",
       "        [261],\n",
       "        [447],\n",
       "        [435],\n",
       "        [166],\n",
       "        [188],\n",
       "        [181],\n",
       "        [466],\n",
       "        [241],\n",
       "        [350],\n",
       "        [ 89],\n",
       "        [293],\n",
       "        [297],\n",
       "        [251],\n",
       "        [ 37],\n",
       "        [263],\n",
       "        [500],\n",
       "        [ 28],\n",
       "        [331],\n",
       "        [278],\n",
       "        [ 29],\n",
       "        [ 72],\n",
       "        [493],\n",
       "        [277],\n",
       "        [ 13],\n",
       "        [106],\n",
       "        [ 59],\n",
       "        [195],\n",
       "        [367],\n",
       "        [ 99],\n",
       "        [ 36],\n",
       "        [187],\n",
       "        [193],\n",
       "        [ 44],\n",
       "        [ 68],\n",
       "        [145],\n",
       "        [213],\n",
       "        [203],\n",
       "        [197],\n",
       "        [511],\n",
       "        [422],\n",
       "        [303],\n",
       "        [ 74],\n",
       "        [280],\n",
       "        [ 23],\n",
       "        [107],\n",
       "        [361],\n",
       "        [451],\n",
       "        [305],\n",
       "        [259],\n",
       "        [  2],\n",
       "        [274],\n",
       "        [406],\n",
       "        [296],\n",
       "        [ 84],\n",
       "        [256],\n",
       "        [162],\n",
       "        [  0],\n",
       "        [112],\n",
       "        [322],\n",
       "        [ 99],\n",
       "        [468],\n",
       "        [416],\n",
       "        [ 40],\n",
       "        [265],\n",
       "        [351],\n",
       "        [276],\n",
       "        [ 20],\n",
       "        [  1],\n",
       "        [221],\n",
       "        [170],\n",
       "        [319],\n",
       "        [348],\n",
       "        [ 44],\n",
       "        [ 46],\n",
       "        [396],\n",
       "        [ 35],\n",
       "        [386],\n",
       "        [156],\n",
       "        [293],\n",
       "        [393],\n",
       "        [ 47],\n",
       "        [156],\n",
       "        [302],\n",
       "        [425],\n",
       "        [357],\n",
       "        [454],\n",
       "        [392],\n",
       "        [387],\n",
       "        [339],\n",
       "        [176],\n",
       "        [432],\n",
       "        [397],\n",
       "        [212],\n",
       "        [424],\n",
       "        [205],\n",
       "        [471],\n",
       "        [433],\n",
       "        [468],\n",
       "        [177],\n",
       "        [447],\n",
       "        [204],\n",
       "        [419],\n",
       "        [165],\n",
       "        [464],\n",
       "        [ 38],\n",
       "        [ 70],\n",
       "        [206],\n",
       "        [ 41],\n",
       "        [136],\n",
       "        [128],\n",
       "        [171],\n",
       "        [460],\n",
       "        [402],\n",
       "        [365],\n",
       "        [508],\n",
       "        [118],\n",
       "        [ 65],\n",
       "        [ 47],\n",
       "        [219],\n",
       "        [148],\n",
       "        [485],\n",
       "        [105],\n",
       "        [452],\n",
       "        [262],\n",
       "        [464],\n",
       "        [ 12],\n",
       "        [377],\n",
       "        [467],\n",
       "        [445],\n",
       "        [509],\n",
       "        [ 63],\n",
       "        [363],\n",
       "        [376],\n",
       "        [279],\n",
       "        [ 64],\n",
       "        [393],\n",
       "        [ 39],\n",
       "        [357],\n",
       "        [328],\n",
       "        [ 96],\n",
       "        [ 21],\n",
       "        [243],\n",
       "        [430],\n",
       "        [286],\n",
       "        [184],\n",
       "        [445],\n",
       "        [422],\n",
       "        [390],\n",
       "        [230],\n",
       "        [345],\n",
       "        [245],\n",
       "        [416],\n",
       "        [ 57],\n",
       "        [ 28],\n",
       "        [274],\n",
       "        [438],\n",
       "        [241],\n",
       "        [ 50],\n",
       "        [188],\n",
       "        [324],\n",
       "        [163],\n",
       "        [329],\n",
       "        [160],\n",
       "        [338],\n",
       "        [  3],\n",
       "        [374],\n",
       "        [143],\n",
       "        [ 90],\n",
       "        [392],\n",
       "        [ 25],\n",
       "        [ 99],\n",
       "        [208],\n",
       "        [ 62],\n",
       "        [ 52],\n",
       "        [ 19],\n",
       "        [341],\n",
       "        [415],\n",
       "        [508],\n",
       "        [483],\n",
       "        [507],\n",
       "        [474],\n",
       "        [268],\n",
       "        [ 47],\n",
       "        [419],\n",
       "        [443],\n",
       "        [423],\n",
       "        [459],\n",
       "        [241],\n",
       "        [ 76],\n",
       "        [304],\n",
       "        [288],\n",
       "        [492],\n",
       "        [481],\n",
       "        [328],\n",
       "        [ 81],\n",
       "        [450],\n",
       "        [476],\n",
       "        [156],\n",
       "        [496],\n",
       "        [155],\n",
       "        [134],\n",
       "        [497],\n",
       "        [212],\n",
       "        [297],\n",
       "        [394],\n",
       "        [335],\n",
       "        [398],\n",
       "        [455],\n",
       "        [188],\n",
       "        [ 87],\n",
       "        [182],\n",
       "        [494],\n",
       "        [260],\n",
       "        [248],\n",
       "        [372],\n",
       "        [424],\n",
       "        [ 85],\n",
       "        [ 57],\n",
       "        [ 54],\n",
       "        [166],\n",
       "        [287],\n",
       "        [ 40],\n",
       "        [263],\n",
       "        [ 83],\n",
       "        [506],\n",
       "        [429],\n",
       "        [402],\n",
       "        [319],\n",
       "        [326],\n",
       "        [131],\n",
       "        [228],\n",
       "        [159],\n",
       "        [346],\n",
       "        [435],\n",
       "        [137],\n",
       "        [332],\n",
       "        [356],\n",
       "        [260],\n",
       "        [ 26],\n",
       "        [134],\n",
       "        [369],\n",
       "        [ 64],\n",
       "        [495],\n",
       "        [259],\n",
       "        [343],\n",
       "        [446],\n",
       "        [444],\n",
       "        [183],\n",
       "        [ 53],\n",
       "        [412],\n",
       "        [374],\n",
       "        [120],\n",
       "        [351],\n",
       "        [170],\n",
       "        [ 16],\n",
       "        [125],\n",
       "        [435],\n",
       "        [159],\n",
       "        [488],\n",
       "        [ 99],\n",
       "        [488],\n",
       "        [ 71],\n",
       "        [330],\n",
       "        [116],\n",
       "        [345],\n",
       "        [188],\n",
       "        [139],\n",
       "        [404],\n",
       "        [506],\n",
       "        [336],\n",
       "        [375],\n",
       "        [287],\n",
       "        [ 12],\n",
       "        [297],\n",
       "        [164],\n",
       "        [374],\n",
       "        [233],\n",
       "        [ 32],\n",
       "        [389],\n",
       "        [280],\n",
       "        [136],\n",
       "        [127],\n",
       "        [231],\n",
       "        [ 51],\n",
       "        [496],\n",
       "        [443],\n",
       "        [483],\n",
       "        [401],\n",
       "        [352],\n",
       "        [361],\n",
       "        [111],\n",
       "        [326],\n",
       "        [433],\n",
       "        [241],\n",
       "        [  5],\n",
       "        [ 55],\n",
       "        [455],\n",
       "        [ 73],\n",
       "        [343],\n",
       "        [244],\n",
       "        [ 39],\n",
       "        [175],\n",
       "        [  6],\n",
       "        [ 40],\n",
       "        [ 16],\n",
       "        [395],\n",
       "        [471],\n",
       "        [215],\n",
       "        [150],\n",
       "        [ 50],\n",
       "        [228],\n",
       "        [436],\n",
       "        [223],\n",
       "        [341],\n",
       "        [347],\n",
       "        [447],\n",
       "        [211],\n",
       "        [217],\n",
       "        [ 93],\n",
       "        [423],\n",
       "        [223],\n",
       "        [139],\n",
       "        [341],\n",
       "        [242],\n",
       "        [189],\n",
       "        [ 23],\n",
       "        [ 67],\n",
       "        [176],\n",
       "        [ 82],\n",
       "        [139],\n",
       "        [377],\n",
       "        [ 25],\n",
       "        [140],\n",
       "        [ 66],\n",
       "        [220],\n",
       "        [189],\n",
       "        [ 32],\n",
       "        [371],\n",
       "        [437]], device='cuda:3')"
      ]
     },
     "execution_count": 600,
     "metadata": {},
     "output_type": "execute_result"
    }
   ],
   "source": [
    "f1 = (flag == 0).nonzero()[indexes]"
   ]
  },
  {
   "cell_type": "code",
   "execution_count": 584,
   "metadata": {},
   "outputs": [],
   "source": [
    "flag_n = flag"
   ]
  },
  {
   "cell_type": "code",
   "execution_count": 585,
   "metadata": {},
   "outputs": [],
   "source": [
    "idx = tuple((np.where(flag_n == 1), f1))"
   ]
  },
  {
   "cell_type": "code",
   "execution_count": 586,
   "metadata": {},
   "outputs": [],
   "source": [
    "transition_matrx[idx] = 1"
   ]
  },
  {
   "cell_type": "code",
   "execution_count": 587,
   "metadata": {},
   "outputs": [
    {
     "data": {
      "text/plain": [
       "<matplotlib.image.AxesImage at 0x7f9b0dee3668>"
      ]
     },
     "execution_count": 587,
     "metadata": {},
     "output_type": "execute_result"
    },
    {
     "data": {
      "image/png": "[encoded data removed]",
      "text/plain": [
       "<Figure size 432x288 with 1 Axes>"
      ]
     },
     "metadata": {
      "needs_background": "light"
     },
     "output_type": "display_data"
    }
   ],
   "source": [
    "plt.imshow(transition_matrx)"
   ]
  },
  {
   "cell_type": "code",
   "execution_count": 413,
   "metadata": {},
   "outputs": [
    {
     "data": {
      "text/plain": [
       "(64, 1024, 960)"
      ]
     },
     "execution_count": 413,
     "metadata": {},
     "output_type": "execute_result"
    }
   ],
   "source": [
    "tmp = tmp[:, cp]\n",
    "tmp.shape"
   ]
  },
  {
   "cell_type": "code",
   "execution_count": 412,
   "metadata": {},
   "outputs": [],
   "source": [
    "cp = np.where(flag == 0)[0][indexes][0] == flag"
   ]
  },
  {
   "cell_type": "code",
   "execution_count": 405,
   "metadata": {},
   "outputs": [
    {
     "data": {
      "text/plain": [
       "tensor([732, 881, 809, 813, 333, 865,  60, 265, 848, 653, 611, 284,  88, 956,\n",
       "        773, 598, 437, 740, 308, 536, 517, 241, 898, 428, 257, 494, 287, 898,\n",
       "        618, 628, 779, 389, 122, 211, 164, 223, 104, 732, 253,  34, 843, 543,\n",
       "        289, 260, 454, 918, 385, 359, 919, 126, 203, 522,   6, 372, 490, 841,\n",
       "        723,  72, 651, 242, 710,  73, 608, 140], device='cuda:3')"
      ]
     },
     "execution_count": 405,
     "metadata": {},
     "output_type": "execute_result"
    }
   ],
   "source": [
    "indexes"
   ]
  },
  {
   "cell_type": "code",
   "execution_count": 391,
   "metadata": {},
   "outputs": [],
   "source": [
    "tmp[:, 0, indexes] = 1"
   ]
  },
  {
   "cell_type": "code",
   "execution_count": 396,
   "metadata": {},
   "outputs": [
    {
     "data": {
      "text/plain": [
       "3968.0"
      ]
     },
     "execution_count": 396,
     "metadata": {},
     "output_type": "execute_result"
    }
   ],
   "source": [
    "np.sum(tmp)"
   ]
  },
  {
   "cell_type": "code",
   "execution_count": 397,
   "metadata": {},
   "outputs": [
    {
     "data": {
      "text/plain": [
       "0.0"
      ]
     },
     "execution_count": 397,
     "metadata": {},
     "output_type": "execute_result"
    }
   ],
   "source": [
    "np.sum(transition_matrx)"
   ]
  },
  {
   "cell_type": "code",
   "execution_count": null,
   "metadata": {},
   "outputs": [],
   "source": [
    "torch.sum(flag)"
   ]
  },
  {
   "cell_type": "code",
   "execution_count": 357,
   "metadata": {},
   "outputs": [
    {
     "data": {
      "text/plain": [
       "tensor([501, 176, 230, 954, 370, 828, 848, 937, 346, 140, 227, 259, 303,  63,\n",
       "        813, 783, 163, 681, 181, 497, 242, 667, 758, 431, 888, 361, 725, 785,\n",
       "        103, 913, 251, 461, 368, 116, 930, 251,  56, 413, 598, 464, 250, 114,\n",
       "         10, 938, 709, 224, 634,  51, 910, 323, 248,  72, 290, 575,  14, 239,\n",
       "        817, 494, 530, 723, 475, 217, 599, 147], device='cuda:3')"
      ]
     },
     "execution_count": 357,
     "metadata": {},
     "output_type": "execute_result"
    }
   ],
   "source": [
    "indexes"
   ]
  },
  {
   "cell_type": "code",
   "execution_count": null,
   "metadata": {},
   "outputs": [],
   "source": []
  },
  {
   "cell_type": "code",
   "execution_count": null,
   "metadata": {},
   "outputs": [],
   "source": []
  },
  {
   "cell_type": "code",
   "execution_count": null,
   "metadata": {},
   "outputs": [],
   "source": []
  },
  {
   "cell_type": "code",
   "execution_count": 316,
   "metadata": {},
   "outputs": [
    {
     "data": {
      "text/plain": [
       "torch.Size([1, 768, 32, 32])"
      ]
     },
     "execution_count": 316,
     "metadata": {},
     "output_type": "execute_result"
    }
   ],
   "source": [
    "output.shape"
   ]
  },
  {
   "cell_type": "code",
   "execution_count": null,
   "metadata": {},
   "outputs": [],
   "source": [
    "from util import util\n",
    "import torch.nn.functional as F"
   ]
  },
  {
   "cell_type": "code",
   "execution_count": null,
   "metadata": {},
   "outputs": [],
   "source": [
    "def create_random_mask(opt):\n",
    "    gMask_opts = {}\n",
    "    mask_global = torch.ByteTensor(1, 1, \\\n",
    "                                 opt.fineSize, opt.fineSize)\n",
    "\n",
    "        # Here we need to set an artificial mask_global(not to make it broken, so center hole is ok.)\n",
    "    mask_global.zero_()\n",
    "    mask_global[:, :, int(opt.fineSize/4) + opt.overlap : int(opt.fineSize/2) + int(opt.fineSize/4) - opt.overlap,\\\n",
    "                                int(opt.fineSize/4) + opt.overlap: int(opt.fineSize/2) + int(opt.fineSize/4) - opt.overlap] = 1  \n",
    "    \n",
    "    res = 0.06 # the lower it is, the more continuous the output will be. 0.01 is too small and 0.1 is too large\n",
    "    density = 0.25\n",
    "    MAX_SIZE = 300\n",
    "    maxPartition = 30\n",
    "    low_pattern = torch.rand(1, 1, int(res*MAX_SIZE), int(res*MAX_SIZE)).mul(255)\n",
    "    pattern = F.upsample(low_pattern, (MAX_SIZE, MAX_SIZE), mode='bilinear').data\n",
    "    low_pattern = None\n",
    "    pattern.div_(255)\n",
    "    pattern = torch.lt(pattern,density).byte()  # 25% 1s and 75% 0s\n",
    "    pattern = torch.squeeze(pattern).byte()\n",
    "    gMask_opts['pattern'] = pattern\n",
    "    gMask_opts['MAX_SIZE'] = MAX_SIZE\n",
    "    gMask_opts['fineSize'] = opt.fineSize\n",
    "    gMask_opts['maxPartition'] = maxPartition\n",
    "    gMask_opts['mask_global'] = mask_global\n",
    "    mask_global = util.create_gMask(gMask_opts) # create an initial random mask.   \n",
    "    return mask_global"
   ]
  },
  {
   "cell_type": "code",
   "execution_count": null,
   "metadata": {},
   "outputs": [],
   "source": [
    "%time mask_global = create_random_mask(opt)"
   ]
  },
  {
   "cell_type": "code",
   "execution_count": null,
   "metadata": {},
   "outputs": [],
   "source": [
    "mask_global.shape"
   ]
  },
  {
   "cell_type": "code",
   "execution_count": null,
   "metadata": {},
   "outputs": [],
   "source": [
    "plt.imshow(np.squeeze(mask_global))"
   ]
  },
  {
   "cell_type": "code",
   "execution_count": null,
   "metadata": {},
   "outputs": [],
   "source": [
    "mask_global"
   ]
  },
  {
   "cell_type": "code",
   "execution_count": null,
   "metadata": {},
   "outputs": [],
   "source": [
    "inner_shift_triple.set_mask(mask_global=mask_global, threshold=opt.threshold, layer_to_last=3)"
   ]
  },
  {
   "cell_type": "code",
   "execution_count": null,
   "metadata": {},
   "outputs": [],
   "source": [
    "%timeit output = inner_shift_triple.forward(x_tr.cuda())"
   ]
  },
  {
   "cell_type": "markdown",
   "metadata": {},
   "source": [
    "# THE ENTIRE PROCESS IS PRETTY FAST, THE ISSUE WAS COMING FROM THE MASK GENERATOR"
   ]
  },
  {
   "cell_type": "markdown",
   "metadata": {},
   "source": [
    "# IMPLEMENT AN ACCELERATE MODULE"
   ]
  },
  {
   "cell_type": "code",
   "execution_count": null,
   "metadata": {},
   "outputs": [],
   "source": [
    "opt = parser.opt\n",
    "opt.shift_sz = 1"
   ]
  },
  {
   "cell_type": "code",
   "execution_count": null,
   "metadata": {},
   "outputs": [],
   "source": [
    "from models.accelerated_InnerShiftTriple import AcceleratedInnerShiftTriple\n",
    "acce_inner_shift_triple = AcceleratedInnerShiftTriple(opt.threshold, opt.fixed_mask)"
   ]
  },
  {
   "cell_type": "code",
   "execution_count": null,
   "metadata": {},
   "outputs": [],
   "source": [
    "acce_inner_shift_triple.cuda()"
   ]
  },
  {
   "cell_type": "code",
   "execution_count": null,
   "metadata": {},
   "outputs": [],
   "source": [
    "acce_inner_shift_triple.set_mask(mask_global=mask_global, threshold=opt.threshold, layer_to_last=3)"
   ]
  },
  {
   "cell_type": "code",
   "execution_count": null,
   "metadata": {},
   "outputs": [],
   "source": [
    "%timeit output = acce_inner_shift_triple(x_tr.cuda())"
   ]
  },
  {
   "cell_type": "code",
   "execution_count": null,
   "metadata": {},
   "outputs": [],
   "source": [
    "acce_inner_shift_triple.__dict__"
   ]
  },
  {
   "cell_type": "code",
   "execution_count": 170,
   "metadata": {},
   "outputs": [
    {
     "name": "stdout",
     "output_type": "stream",
     "text": [
      "THE SPEED UP IS 5.060869565217391 FOLD\n"
     ]
    }
   ],
   "source": [
    "print('THE SPEED UP IS {} FOLD'.format(582/115))"
   ]
  },
  {
   "cell_type": "code",
   "execution_count": null,
   "metadata": {},
   "outputs": [],
   "source": []
  }
 ],
 "metadata": {
  "kernelspec": {
   "display_name": "Python 3",
   "language": "python",
   "name": "python3"
  },
  "language_info": {
   "codemirror_mode": {
    "name": "ipython",
    "version": 3
   },
   "file_extension": ".py",
   "mimetype": "text/x-python",
   "name": "python",
   "nbconvert_exporter": "python",
   "pygments_lexer": "ipython3",
   "version": "3.6.4"
  }
 },
 "nbformat": 4,
 "nbformat_minor": 2
}
