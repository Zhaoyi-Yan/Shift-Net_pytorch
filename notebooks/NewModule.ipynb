{
 "cells": [
  {
   "cell_type": "code",
   "execution_count": 1,
   "metadata": {},
   "outputs": [],
   "source": [
    "%load_ext autoreload\n",
    "%autoreload 2\n",
    "import os#\n",
    "import torch\n",
    "import argparse\n",
    "import matplotlib.pyplot as plt\n",
    "import sys\n",
    "sys.path.append('../')\n",
    "from models.networks import UnetGenerator, InceptionDown, PartialConv, InceptionUp\n",
    "import numpy as np\n",
    "from models.modules.shift_unet import InceptionUnetGeneratorShiftTriple\n",
    "from util.util import wrapper_gmask"
   ]
  },
  {
   "cell_type": "code",
   "execution_count": 2,
   "metadata": {},
   "outputs": [],
   "source": [
    "from options.train_options import TrainOptions "
   ]
  },
  {
   "cell_type": "code",
   "execution_count": 3,
   "metadata": {},
   "outputs": [],
   "source": [
    "dataroot = '/mnt/hdd2/AIM/DAGM/Class4_def/' # ENTER HERE THE PATH YOU WANT TO USE AS DATAROOT\n",
    "options = '--dataroot {}'.format(dataroot).split(' ')"
   ]
  },
  {
   "cell_type": "code",
   "execution_count": 4,
   "metadata": {},
   "outputs": [],
   "source": [
    "def get_parser(options=None):\n",
    "    parser = TrainOptions()\n",
    "    parser.parse(options=options)\n",
    "    return parser"
   ]
  },
  {
   "cell_type": "code",
   "execution_count": 5,
   "metadata": {},
   "outputs": [
    {
     "name": "stdout",
     "output_type": "stream",
     "text": [
      "----------------- Options ---------------\n",
      "                batchSize: 1                             \n",
      "                    beta1: 0.5                           \n",
      "               bottleneck: 512                           \n",
      "          checkpoints_dir: /mnt/hdd2/AIM/checkpoints/    \n",
      "                constrain: MSE                           \n",
      "           continue_train: False                         \n",
      "                 dataroot: /mnt/hdd2/AIM/DAGM/Class4_def/\t[default: /mnt/hdd2/AIM/DAGM/Class4]\n",
      "             dataset_mode: aligned_resized               \n",
      "             display_freq: 10                            \n",
      "               display_id: 1                             \n",
      "            display_ncols: 4                             \n",
      "             display_port: 8097                          \n",
      "           display_server: http://localhost              \n",
      "display_single_pane_ncols: 0                             \n",
      "          display_winsize: 256                           \n",
      "              epoch_count: 1                             \n",
      "                 fineSize: 256                           \n",
      "               fixed_mask: 0                             \n",
      "                 gan_type: vanilla                       \n",
      "               gan_weight: 0.2                           \n",
      "                gp_lambda: 10.0                          \n",
      "                  gpu_ids: 3                             \n",
      "                init_gain: 0.02                          \n",
      "                init_type: normal                        \n",
      "                 input_nc: 3                             \n",
      "                  isTrain: True                          \t[default: None]\n",
      "                 lambda_A: 100                           \n",
      "                 loadSize: 350                           \n",
      "                       lr: 0.0002                        \n",
      "           lr_decay_iters: 50                            \n",
      "                lr_policy: lambda                        \n",
      "            mask_sub_type: island                        \n",
      "               mask_thred: 1                             \n",
      "                mask_type: random                        \n",
      "         max_dataset_size: inf                           \n",
      "                    model: accelerated_shiftnet          \n",
      "                 nThreads: 2                             \n",
      "               n_layers_D: 3                             \n",
      "                     name: class4_2                      \n",
      "                  ncritic: 5                             \n",
      "                      ndf: 64                            \n",
      "                      ngf: 64                            \n",
      "                    niter: 1000                          \n",
      "              niter_decay: 0                             \n",
      "                  no_flip: False                         \n",
      "                  no_html: False                         \n",
      "                     norm: instance                      \n",
      "                output_nc: 3                             \n",
      "                  overlap: 4                             \n",
      "                    phase: train                         \n",
      "               print_freq: 50                            \n",
      "           resize_or_crop: resize_and_crop               \n",
      "          save_epoch_freq: 2                             \n",
      "         save_latest_freq: 5000                          \n",
      "           serial_batches: False                         \n",
      "                 shift_sz: 1                             \n",
      "                     skip: 0                             \n",
      "                 strength: 1                             \n",
      "                   stride: 1                             \n",
      "                   suffix:                               \n",
      "                threshold: 0.3125                        \n",
      "            triple_weight: 1                             \n",
      "         update_html_freq: 1000                          \n",
      "              use_dropout: False                         \n",
      "                  verbose: False                         \n",
      "           weights_saving: True                          \n",
      "              which_epoch: latest                        \n",
      "         which_model_netD: basic                         \n",
      "         which_model_netG: inception_unet_shift_triple   \n",
      "----------------- End -------------------\n"
     ]
    }
   ],
   "source": [
    "parser = get_parser(options=options)"
   ]
  },
  {
   "cell_type": "code",
   "execution_count": 6,
   "metadata": {},
   "outputs": [],
   "source": [
    "opt = parser.opt"
   ]
  },
  {
   "cell_type": "code",
   "execution_count": 7,
   "metadata": {},
   "outputs": [
    {
     "name": "stderr",
     "output_type": "stream",
     "text": [
      "/home/tchaton/virtualenvs/labelbox/lib/python3.6/site-packages/torch/nn/functional.py:1961: UserWarning: Default upsampling behavior when mode=bilinear is changed to align_corners=False since 0.4.0. Please specify align_corners=True if the old behavior is desired. See the documentation of nn.Upsample for details.\n",
      "  \"See the documentation of nn.Upsample for details.\".format(mode))\n"
     ]
    }
   ],
   "source": [
    "mask = wrapper_gmask(opt)"
   ]
  },
  {
   "cell_type": "code",
   "execution_count": 8,
   "metadata": {},
   "outputs": [
    {
     "data": {
      "text/plain": [
       "tensor([[[[0., 0., 0.,  ..., 0., 0., 0.],\n",
       "          [0., 0., 0.,  ..., 0., 0., 0.],\n",
       "          [0., 0., 0.,  ..., 0., 0., 0.],\n",
       "          ...,\n",
       "          [0., 0., 0.,  ..., 0., 0., 0.],\n",
       "          [0., 0., 0.,  ..., 0., 0., 0.],\n",
       "          [0., 0., 0.,  ..., 0., 0., 0.]]]], device='cuda:3')"
      ]
     },
     "execution_count": 8,
     "metadata": {},
     "output_type": "execute_result"
    }
   ],
   "source": [
    "mask.float().cuda()"
   ]
  },
  {
   "cell_type": "code",
   "execution_count": 9,
   "metadata": {},
   "outputs": [],
   "source": [
    "input_nc = 3\n",
    "output_nc = 3\n",
    "num_downs = 7\n",
    "innerCos_list = []\n",
    "shift_list = []\n",
    "mask_global = mask"
   ]
  },
  {
   "cell_type": "code",
   "execution_count": 10,
   "metadata": {},
   "outputs": [
    {
     "data": {
      "text/plain": [
       "InceptionUnetGeneratorShiftTriple(\n",
       "  (model): InceptionUnetSkipConnectionBlock(\n",
       "    (model): Sequential(\n",
       "      (0): Conv2d(3, 64, kernel_size=(4, 4), stride=(2, 2), padding=(1, 1))\n",
       "      (1): InceptionUnetSkipConnectionBlock(\n",
       "        (model): Sequential(\n",
       "          (0): LeakyReLU(negative_slope=0.2, inplace)\n",
       "          (1): InceptionDown(\n",
       "            (act): LeakyReLU(negative_slope=0.2, inplace)\n",
       "            (conv0_1x1_0): Conv2d(64, 16, kernel_size=(1, 1), stride=(1, 1))\n",
       "            (bconv0_1x1_0): BatchNorm2d(16, eps=1e-05, momentum=0.1, affine=True, track_running_stats=True)\n",
       "            (conv0_1x1_1): Conv2d(64, 16, kernel_size=(1, 1), stride=(1, 1))\n",
       "            (bconv0_1x1_1): BatchNorm2d(16, eps=1e-05, momentum=0.1, affine=True, track_running_stats=True)\n",
       "            (max_pool0): MaxPool2d(kernel_size=2, stride=2, padding=0, dilation=1, ceil_mode=False)\n",
       "            (conv0_1x1_2): Conv2d(64, 32, kernel_size=(1, 1), stride=(1, 1))\n",
       "            (bconv0_1x1_2): BatchNorm2d(32, eps=1e-05, momentum=0.1, affine=True, track_running_stats=True)\n",
       "            (conv1_3x3): Conv2d(16, 16, kernel_size=(3, 3), stride=(1, 1), padding=(1, 1))\n",
       "            (bconv1_3x3): BatchNorm2d(16, eps=1e-05, momentum=0.1, affine=True, track_running_stats=True)\n",
       "            (conv1_1x3): Conv2d(16, 32, kernel_size=(1, 3), stride=(1, 1), padding=(0, 1))\n",
       "            (bconv1_1x3): BatchNorm2d(32, eps=1e-05, momentum=0.1, affine=True, track_running_stats=True)\n",
       "            (conv1_3x1): Conv2d(16, 32, kernel_size=(3, 1), stride=(1, 1), padding=(1, 0))\n",
       "            (bconv1_3x1): BatchNorm2d(32, eps=1e-05, momentum=0.1, affine=True, track_running_stats=True)\n",
       "            (conv1_1x1): Conv2d(64, 32, kernel_size=(1, 1), stride=(1, 1))\n",
       "            (bconv1_1x1): BatchNorm2d(32, eps=1e-05, momentum=0.1, affine=True, track_running_stats=True)\n",
       "            (conv2_1x3): Conv2d(16, 32, kernel_size=(1, 3), stride=(1, 1), padding=(0, 1))\n",
       "            (bconv2_1x3): BatchNorm2d(32, eps=1e-05, momentum=0.1, affine=True, track_running_stats=True)\n",
       "            (conv2_3x1): Conv2d(16, 32, kernel_size=(3, 1), stride=(1, 1), padding=(1, 0))\n",
       "            (bconv2_3x1): BatchNorm2d(32, eps=1e-05, momentum=0.1, affine=True, track_running_stats=True)\n",
       "          )\n",
       "          (2): BatchNorm2d(128, eps=1e-05, momentum=0.1, affine=True, track_running_stats=True)\n",
       "          (3): InceptionShiftUnetSkipConnectionBlock(\n",
       "            (model): Sequential(\n",
       "              (0): LeakyReLU(negative_slope=0.2, inplace)\n",
       "              (1): InceptionDown(\n",
       "                (act): LeakyReLU(negative_slope=0.2, inplace)\n",
       "                (conv0_1x1_0): Conv2d(128, 32, kernel_size=(1, 1), stride=(1, 1))\n",
       "                (bconv0_1x1_0): BatchNorm2d(32, eps=1e-05, momentum=0.1, affine=True, track_running_stats=True)\n",
       "                (conv0_1x1_1): Conv2d(128, 32, kernel_size=(1, 1), stride=(1, 1))\n",
       "                (bconv0_1x1_1): BatchNorm2d(32, eps=1e-05, momentum=0.1, affine=True, track_running_stats=True)\n",
       "                (max_pool0): MaxPool2d(kernel_size=2, stride=2, padding=0, dilation=1, ceil_mode=False)\n",
       "                (conv0_1x1_2): Conv2d(128, 64, kernel_size=(1, 1), stride=(1, 1))\n",
       "                (bconv0_1x1_2): BatchNorm2d(64, eps=1e-05, momentum=0.1, affine=True, track_running_stats=True)\n",
       "                (conv1_3x3): Conv2d(32, 32, kernel_size=(3, 3), stride=(1, 1), padding=(1, 1))\n",
       "                (bconv1_3x3): BatchNorm2d(32, eps=1e-05, momentum=0.1, affine=True, track_running_stats=True)\n",
       "                (conv1_1x3): Conv2d(32, 64, kernel_size=(1, 3), stride=(1, 1), padding=(0, 1))\n",
       "                (bconv1_1x3): BatchNorm2d(64, eps=1e-05, momentum=0.1, affine=True, track_running_stats=True)\n",
       "                (conv1_3x1): Conv2d(32, 64, kernel_size=(3, 1), stride=(1, 1), padding=(1, 0))\n",
       "                (bconv1_3x1): BatchNorm2d(64, eps=1e-05, momentum=0.1, affine=True, track_running_stats=True)\n",
       "                (conv1_1x1): Conv2d(128, 64, kernel_size=(1, 1), stride=(1, 1))\n",
       "                (bconv1_1x1): BatchNorm2d(64, eps=1e-05, momentum=0.1, affine=True, track_running_stats=True)\n",
       "                (conv2_1x3): Conv2d(32, 64, kernel_size=(1, 3), stride=(1, 1), padding=(0, 1))\n",
       "                (bconv2_1x3): BatchNorm2d(64, eps=1e-05, momentum=0.1, affine=True, track_running_stats=True)\n",
       "                (conv2_3x1): Conv2d(32, 64, kernel_size=(3, 1), stride=(1, 1), padding=(1, 0))\n",
       "                (bconv2_3x1): BatchNorm2d(64, eps=1e-05, momentum=0.1, affine=True, track_running_stats=True)\n",
       "              )\n",
       "              (2): BatchNorm2d(256, eps=1e-05, momentum=0.1, affine=True, track_running_stats=True)\n",
       "              (3): InceptionUnetSkipConnectionBlock(\n",
       "                (model): Sequential(\n",
       "                  (0): LeakyReLU(negative_slope=0.2, inplace)\n",
       "                  (1): InceptionDown(\n",
       "                    (act): LeakyReLU(negative_slope=0.2, inplace)\n",
       "                    (conv0_1x1_0): Conv2d(256, 64, kernel_size=(1, 1), stride=(1, 1))\n",
       "                    (bconv0_1x1_0): BatchNorm2d(64, eps=1e-05, momentum=0.1, affine=True, track_running_stats=True)\n",
       "                    (conv0_1x1_1): Conv2d(256, 64, kernel_size=(1, 1), stride=(1, 1))\n",
       "                    (bconv0_1x1_1): BatchNorm2d(64, eps=1e-05, momentum=0.1, affine=True, track_running_stats=True)\n",
       "                    (max_pool0): MaxPool2d(kernel_size=2, stride=2, padding=0, dilation=1, ceil_mode=False)\n",
       "                    (conv0_1x1_2): Conv2d(256, 128, kernel_size=(1, 1), stride=(1, 1))\n",
       "                    (bconv0_1x1_2): BatchNorm2d(128, eps=1e-05, momentum=0.1, affine=True, track_running_stats=True)\n",
       "                    (conv1_3x3): Conv2d(64, 64, kernel_size=(3, 3), stride=(1, 1), padding=(1, 1))\n",
       "                    (bconv1_3x3): BatchNorm2d(64, eps=1e-05, momentum=0.1, affine=True, track_running_stats=True)\n",
       "                    (conv1_1x3): Conv2d(64, 128, kernel_size=(1, 3), stride=(1, 1), padding=(0, 1))\n",
       "                    (bconv1_1x3): BatchNorm2d(128, eps=1e-05, momentum=0.1, affine=True, track_running_stats=True)\n",
       "                    (conv1_3x1): Conv2d(64, 128, kernel_size=(3, 1), stride=(1, 1), padding=(1, 0))\n",
       "                    (bconv1_3x1): BatchNorm2d(128, eps=1e-05, momentum=0.1, affine=True, track_running_stats=True)\n",
       "                    (conv1_1x1): Conv2d(256, 128, kernel_size=(1, 1), stride=(1, 1))\n",
       "                    (bconv1_1x1): BatchNorm2d(128, eps=1e-05, momentum=0.1, affine=True, track_running_stats=True)\n",
       "                    (conv2_1x3): Conv2d(64, 128, kernel_size=(1, 3), stride=(1, 1), padding=(0, 1))\n",
       "                    (bconv2_1x3): BatchNorm2d(128, eps=1e-05, momentum=0.1, affine=True, track_running_stats=True)\n",
       "                    (conv2_3x1): Conv2d(64, 128, kernel_size=(3, 1), stride=(1, 1), padding=(1, 0))\n",
       "                    (bconv2_3x1): BatchNorm2d(128, eps=1e-05, momentum=0.1, affine=True, track_running_stats=True)\n",
       "                  )\n",
       "                  (2): BatchNorm2d(512, eps=1e-05, momentum=0.1, affine=True, track_running_stats=True)\n",
       "                  (3): InceptionUnetSkipConnectionBlock(\n",
       "                    (model): Sequential(\n",
       "                      (0): LeakyReLU(negative_slope=0.2, inplace)\n",
       "                      (1): InceptionDown(\n",
       "                        (act): LeakyReLU(negative_slope=0.2, inplace)\n",
       "                        (conv0_1x1_0): Conv2d(512, 64, kernel_size=(1, 1), stride=(1, 1))\n",
       "                        (bconv0_1x1_0): BatchNorm2d(64, eps=1e-05, momentum=0.1, affine=True, track_running_stats=True)\n",
       "                        (conv0_1x1_1): Conv2d(512, 64, kernel_size=(1, 1), stride=(1, 1))\n",
       "                        (bconv0_1x1_1): BatchNorm2d(64, eps=1e-05, momentum=0.1, affine=True, track_running_stats=True)\n",
       "                        (max_pool0): MaxPool2d(kernel_size=2, stride=2, padding=0, dilation=1, ceil_mode=False)\n",
       "                        (conv0_1x1_2): Conv2d(512, 128, kernel_size=(1, 1), stride=(1, 1))\n",
       "                        (bconv0_1x1_2): BatchNorm2d(128, eps=1e-05, momentum=0.1, affine=True, track_running_stats=True)\n",
       "                        (conv1_3x3): Conv2d(64, 64, kernel_size=(3, 3), stride=(1, 1), padding=(1, 1))\n",
       "                        (bconv1_3x3): BatchNorm2d(64, eps=1e-05, momentum=0.1, affine=True, track_running_stats=True)\n",
       "                        (conv1_1x3): Conv2d(64, 128, kernel_size=(1, 3), stride=(1, 1), padding=(0, 1))\n",
       "                        (bconv1_1x3): BatchNorm2d(128, eps=1e-05, momentum=0.1, affine=True, track_running_stats=True)\n",
       "                        (conv1_3x1): Conv2d(64, 128, kernel_size=(3, 1), stride=(1, 1), padding=(1, 0))\n",
       "                        (bconv1_3x1): BatchNorm2d(128, eps=1e-05, momentum=0.1, affine=True, track_running_stats=True)\n",
       "                        (conv1_1x1): Conv2d(512, 128, kernel_size=(1, 1), stride=(1, 1))\n",
       "                        (bconv1_1x1): BatchNorm2d(128, eps=1e-05, momentum=0.1, affine=True, track_running_stats=True)\n",
       "                        (conv2_1x3): Conv2d(64, 128, kernel_size=(1, 3), stride=(1, 1), padding=(0, 1))\n",
       "                        (bconv2_1x3): BatchNorm2d(128, eps=1e-05, momentum=0.1, affine=True, track_running_stats=True)\n",
       "                        (conv2_3x1): Conv2d(64, 128, kernel_size=(3, 1), stride=(1, 1), padding=(1, 0))\n",
       "                        (bconv2_3x1): BatchNorm2d(128, eps=1e-05, momentum=0.1, affine=True, track_running_stats=True)\n",
       "                      )\n",
       "                      (2): BatchNorm2d(512, eps=1e-05, momentum=0.1, affine=True, track_running_stats=True)\n",
       "                      (3): InceptionUnetSkipConnectionBlock(\n",
       "                        (model): Sequential(\n",
       "                          (0): LeakyReLU(negative_slope=0.2, inplace)\n",
       "                          (1): InceptionDown(\n",
       "                            (act): LeakyReLU(negative_slope=0.2, inplace)\n",
       "                            (conv0_1x1_0): Conv2d(512, 64, kernel_size=(1, 1), stride=(1, 1))\n",
       "                            (bconv0_1x1_0): BatchNorm2d(64, eps=1e-05, momentum=0.1, affine=True, track_running_stats=True)\n",
       "                            (conv0_1x1_1): Conv2d(512, 64, kernel_size=(1, 1), stride=(1, 1))\n",
       "                            (bconv0_1x1_1): BatchNorm2d(64, eps=1e-05, momentum=0.1, affine=True, track_running_stats=True)\n",
       "                            (max_pool0): MaxPool2d(kernel_size=2, stride=2, padding=0, dilation=1, ceil_mode=False)\n",
       "                            (conv0_1x1_2): Conv2d(512, 128, kernel_size=(1, 1), stride=(1, 1))\n",
       "                            (bconv0_1x1_2): BatchNorm2d(128, eps=1e-05, momentum=0.1, affine=True, track_running_stats=True)\n",
       "                            (conv1_3x3): Conv2d(64, 64, kernel_size=(3, 3), stride=(1, 1), padding=(1, 1))\n",
       "                            (bconv1_3x3): BatchNorm2d(64, eps=1e-05, momentum=0.1, affine=True, track_running_stats=True)\n",
       "                            (conv1_1x3): Conv2d(64, 128, kernel_size=(1, 3), stride=(1, 1), padding=(0, 1))\n",
       "                            (bconv1_1x3): BatchNorm2d(128, eps=1e-05, momentum=0.1, affine=True, track_running_stats=True)\n",
       "                            (conv1_3x1): Conv2d(64, 128, kernel_size=(3, 1), stride=(1, 1), padding=(1, 0))\n",
       "                            (bconv1_3x1): BatchNorm2d(128, eps=1e-05, momentum=0.1, affine=True, track_running_stats=True)\n",
       "                            (conv1_1x1): Conv2d(512, 128, kernel_size=(1, 1), stride=(1, 1))\n",
       "                            (bconv1_1x1): BatchNorm2d(128, eps=1e-05, momentum=0.1, affine=True, track_running_stats=True)\n",
       "                            (conv2_1x3): Conv2d(64, 128, kernel_size=(1, 3), stride=(1, 1), padding=(0, 1))\n",
       "                            (bconv2_1x3): BatchNorm2d(128, eps=1e-05, momentum=0.1, affine=True, track_running_stats=True)\n",
       "                            (conv2_3x1): Conv2d(64, 128, kernel_size=(3, 1), stride=(1, 1), padding=(1, 0))\n",
       "                            (bconv2_3x1): BatchNorm2d(128, eps=1e-05, momentum=0.1, affine=True, track_running_stats=True)\n",
       "                          )\n",
       "                          (2): BatchNorm2d(512, eps=1e-05, momentum=0.1, affine=True, track_running_stats=True)\n",
       "                          (3): InceptionUnetSkipConnectionBlock(\n",
       "                            (model): Sequential(\n",
       "                              (0): LeakyReLU(negative_slope=0.2, inplace)\n",
       "                              (1): InceptionDown(\n",
       "                                (act): LeakyReLU(negative_slope=0.2, inplace)\n",
       "                                (conv0_1x1_0): Conv2d(512, 64, kernel_size=(1, 1), stride=(1, 1))\n",
       "                                (bconv0_1x1_0): BatchNorm2d(64, eps=1e-05, momentum=0.1, affine=True, track_running_stats=True)\n",
       "                                (conv0_1x1_1): Conv2d(512, 64, kernel_size=(1, 1), stride=(1, 1))\n",
       "                                (bconv0_1x1_1): BatchNorm2d(64, eps=1e-05, momentum=0.1, affine=True, track_running_stats=True)\n",
       "                                (max_pool0): MaxPool2d(kernel_size=2, stride=2, padding=0, dilation=1, ceil_mode=False)\n",
       "                                (conv0_1x1_2): Conv2d(512, 128, kernel_size=(1, 1), stride=(1, 1))\n",
       "                                (bconv0_1x1_2): BatchNorm2d(128, eps=1e-05, momentum=0.1, affine=True, track_running_stats=True)\n",
       "                                (conv1_3x3): Conv2d(64, 64, kernel_size=(3, 3), stride=(1, 1), padding=(1, 1))\n",
       "                                (bconv1_3x3): BatchNorm2d(64, eps=1e-05, momentum=0.1, affine=True, track_running_stats=True)\n",
       "                                (conv1_1x3): Conv2d(64, 128, kernel_size=(1, 3), stride=(1, 1), padding=(0, 1))\n",
       "                                (bconv1_1x3): BatchNorm2d(128, eps=1e-05, momentum=0.1, affine=True, track_running_stats=True)\n",
       "                                (conv1_3x1): Conv2d(64, 128, kernel_size=(3, 1), stride=(1, 1), padding=(1, 0))\n",
       "                                (bconv1_3x1): BatchNorm2d(128, eps=1e-05, momentum=0.1, affine=True, track_running_stats=True)\n",
       "                                (conv1_1x1): Conv2d(512, 128, kernel_size=(1, 1), stride=(1, 1))\n",
       "                                (bconv1_1x1): BatchNorm2d(128, eps=1e-05, momentum=0.1, affine=True, track_running_stats=True)\n",
       "                                (conv2_1x3): Conv2d(64, 128, kernel_size=(1, 3), stride=(1, 1), padding=(0, 1))\n",
       "                                (bconv2_1x3): BatchNorm2d(128, eps=1e-05, momentum=0.1, affine=True, track_running_stats=True)\n",
       "                                (conv2_3x1): Conv2d(64, 128, kernel_size=(3, 1), stride=(1, 1), padding=(1, 0))\n",
       "                                (bconv2_3x1): BatchNorm2d(128, eps=1e-05, momentum=0.1, affine=True, track_running_stats=True)\n",
       "                              )\n",
       "                              (2): ReLU(inplace)\n",
       "                              (3): InceptionUp(\n",
       "                                (act): LeakyReLU(negative_slope=0.2, inplace)\n",
       "                                (conv0_1x1_0): ConvTranspose2d(512, 128, kernel_size=(1, 1), stride=(2, 2), output_padding=(1, 1))\n",
       "                                (bconv0_1x1_0): BatchNorm2d(128, eps=1e-05, momentum=0.1, affine=True, track_running_stats=True)\n",
       "                                (conv0_1x1_1): ConvTranspose2d(512, 64, kernel_size=(1, 1), stride=(2, 2), output_padding=(1, 1))\n",
       "                                (bconv0_1x1_1): BatchNorm2d(64, eps=1e-05, momentum=0.1, affine=True, track_running_stats=True)\n",
       "                                (upsample0): Upsample(scale_factor=2, mode=bilinear)\n",
       "                                (conv0_1x1_2): ConvTranspose2d(512, 64, kernel_size=(1, 1), stride=(2, 2), output_padding=(1, 1))\n",
       "                                (bconv0_1x1_2): BatchNorm2d(64, eps=1e-05, momentum=0.1, affine=True, track_running_stats=True)\n",
       "                                (conv1_3x3): ConvTranspose2d(64, 128, kernel_size=(3, 3), stride=(1, 1), padding=(1, 1))\n",
       "                                (bconv1_3x3): BatchNorm2d(128, eps=1e-05, momentum=0.1, affine=True, track_running_stats=True)\n",
       "                                (conv1_5x5): ConvTranspose2d(64, 128, kernel_size=(5, 5), stride=(1, 1), padding=(2, 2))\n",
       "                                (bconv1_5x5): BatchNorm2d(128, eps=1e-05, momentum=0.1, affine=True, track_running_stats=True)\n",
       "                                (conv1_1x1): ConvTranspose2d(512, 128, kernel_size=(1, 1), stride=(1, 1))\n",
       "                                (bconv1_1x1): BatchNorm2d(128, eps=1e-05, momentum=0.1, affine=True, track_running_stats=True)\n",
       "                              )\n",
       "                              (4): BatchNorm2d(512, eps=1e-05, momentum=0.1, affine=True, track_running_stats=True)\n",
       "                            )\n",
       "                          )\n",
       "                          (4): ReLU(inplace)\n",
       "                          (5): InceptionUp(\n",
       "                            (act): LeakyReLU(negative_slope=0.2, inplace)\n",
       "                            (conv0_1x1_0): ConvTranspose2d(1024, 128, kernel_size=(1, 1), stride=(2, 2), output_padding=(1, 1))\n",
       "                            (bconv0_1x1_0): BatchNorm2d(128, eps=1e-05, momentum=0.1, affine=True, track_running_stats=True)\n",
       "                            (conv0_1x1_1): ConvTranspose2d(1024, 64, kernel_size=(1, 1), stride=(2, 2), output_padding=(1, 1))\n",
       "                            (bconv0_1x1_1): BatchNorm2d(64, eps=1e-05, momentum=0.1, affine=True, track_running_stats=True)\n",
       "                            (upsample0): Upsample(scale_factor=2, mode=bilinear)\n",
       "                            (conv0_1x1_2): ConvTranspose2d(1024, 64, kernel_size=(1, 1), stride=(2, 2), output_padding=(1, 1))\n",
       "                            (bconv0_1x1_2): BatchNorm2d(64, eps=1e-05, momentum=0.1, affine=True, track_running_stats=True)\n",
       "                            (conv1_3x3): ConvTranspose2d(64, 128, kernel_size=(3, 3), stride=(1, 1), padding=(1, 1))\n",
       "                            (bconv1_3x3): BatchNorm2d(128, eps=1e-05, momentum=0.1, affine=True, track_running_stats=True)\n",
       "                            (conv1_5x5): ConvTranspose2d(64, 128, kernel_size=(5, 5), stride=(1, 1), padding=(2, 2))\n",
       "                            (bconv1_5x5): BatchNorm2d(128, eps=1e-05, momentum=0.1, affine=True, track_running_stats=True)\n",
       "                            (conv1_1x1): ConvTranspose2d(1024, 128, kernel_size=(1, 1), stride=(1, 1))\n",
       "                            (bconv1_1x1): BatchNorm2d(128, eps=1e-05, momentum=0.1, affine=True, track_running_stats=True)\n",
       "                          )\n",
       "                          (6): BatchNorm2d(512, eps=1e-05, momentum=0.1, affine=True, track_running_stats=True)\n",
       "                        )\n",
       "                      )\n",
       "                      (4): ReLU(inplace)\n",
       "                      (5): InceptionUp(\n",
       "                        (act): LeakyReLU(negative_slope=0.2, inplace)\n",
       "                        (conv0_1x1_0): ConvTranspose2d(1024, 128, kernel_size=(1, 1), stride=(2, 2), output_padding=(1, 1))\n",
       "                        (bconv0_1x1_0): BatchNorm2d(128, eps=1e-05, momentum=0.1, affine=True, track_running_stats=True)\n",
       "                        (conv0_1x1_1): ConvTranspose2d(1024, 64, kernel_size=(1, 1), stride=(2, 2), output_padding=(1, 1))\n",
       "                        (bconv0_1x1_1): BatchNorm2d(64, eps=1e-05, momentum=0.1, affine=True, track_running_stats=True)\n",
       "                        (upsample0): Upsample(scale_factor=2, mode=bilinear)\n",
       "                        (conv0_1x1_2): ConvTranspose2d(1024, 64, kernel_size=(1, 1), stride=(2, 2), output_padding=(1, 1))\n",
       "                        (bconv0_1x1_2): BatchNorm2d(64, eps=1e-05, momentum=0.1, affine=True, track_running_stats=True)\n",
       "                        (conv1_3x3): ConvTranspose2d(64, 128, kernel_size=(3, 3), stride=(1, 1), padding=(1, 1))\n",
       "                        (bconv1_3x3): BatchNorm2d(128, eps=1e-05, momentum=0.1, affine=True, track_running_stats=True)\n",
       "                        (conv1_5x5): ConvTranspose2d(64, 128, kernel_size=(5, 5), stride=(1, 1), padding=(2, 2))\n",
       "                        (bconv1_5x5): BatchNorm2d(128, eps=1e-05, momentum=0.1, affine=True, track_running_stats=True)\n",
       "                        (conv1_1x1): ConvTranspose2d(1024, 128, kernel_size=(1, 1), stride=(1, 1))\n",
       "                        (bconv1_1x1): BatchNorm2d(128, eps=1e-05, momentum=0.1, affine=True, track_running_stats=True)\n",
       "                      )\n",
       "                      (6): BatchNorm2d(512, eps=1e-05, momentum=0.1, affine=True, track_running_stats=True)\n",
       "                    )\n",
       "                  )\n",
       "                  (4): ReLU(inplace)\n",
       "                  (5): InceptionUp(\n",
       "                    (act): LeakyReLU(negative_slope=0.2, inplace)\n",
       "                    (conv0_1x1_0): ConvTranspose2d(1024, 64, kernel_size=(1, 1), stride=(2, 2), output_padding=(1, 1))\n",
       "                    (bconv0_1x1_0): BatchNorm2d(64, eps=1e-05, momentum=0.1, affine=True, track_running_stats=True)\n",
       "                    (conv0_1x1_1): ConvTranspose2d(1024, 32, kernel_size=(1, 1), stride=(2, 2), output_padding=(1, 1))\n",
       "                    (bconv0_1x1_1): BatchNorm2d(32, eps=1e-05, momentum=0.1, affine=True, track_running_stats=True)\n",
       "                    (upsample0): Upsample(scale_factor=2, mode=bilinear)\n",
       "                    (conv0_1x1_2): ConvTranspose2d(1024, 32, kernel_size=(1, 1), stride=(2, 2), output_padding=(1, 1))\n",
       "                    (bconv0_1x1_2): BatchNorm2d(32, eps=1e-05, momentum=0.1, affine=True, track_running_stats=True)\n",
       "                    (conv1_3x3): ConvTranspose2d(32, 64, kernel_size=(3, 3), stride=(1, 1), padding=(1, 1))\n",
       "                    (bconv1_3x3): BatchNorm2d(64, eps=1e-05, momentum=0.1, affine=True, track_running_stats=True)\n",
       "                    (conv1_5x5): ConvTranspose2d(32, 64, kernel_size=(5, 5), stride=(1, 1), padding=(2, 2))\n",
       "                    (bconv1_5x5): BatchNorm2d(64, eps=1e-05, momentum=0.1, affine=True, track_running_stats=True)\n",
       "                    (conv1_1x1): ConvTranspose2d(1024, 64, kernel_size=(1, 1), stride=(1, 1))\n",
       "                    (bconv1_1x1): BatchNorm2d(64, eps=1e-05, momentum=0.1, affine=True, track_running_stats=True)\n",
       "                  )\n",
       "                  (6): BatchNorm2d(256, eps=1e-05, momentum=0.1, affine=True, track_running_stats=True)\n",
       "                )\n",
       "              )\n",
       "              (4): ReLU(inplace)\n",
       "              (5): InnerCos(skip: True ,strength: 1)\n",
       "              (6): AcceleratedInnerShiftTriple(threshold: 0.3125 ,triple_weight 1)\n",
       "              (7): InnerCos(skip: True ,strength: 1)\n",
       "              (8): InceptionUp(\n",
       "                (act): LeakyReLU(negative_slope=0.2, inplace)\n",
       "                (conv0_1x1_0): ConvTranspose2d(768, 32, kernel_size=(1, 1), stride=(2, 2), output_padding=(1, 1))\n",
       "                (bconv0_1x1_0): BatchNorm2d(32, eps=1e-05, momentum=0.1, affine=True, track_running_stats=True)\n",
       "                (conv0_1x1_1): ConvTranspose2d(768, 16, kernel_size=(1, 1), stride=(2, 2), output_padding=(1, 1))\n",
       "                (bconv0_1x1_1): BatchNorm2d(16, eps=1e-05, momentum=0.1, affine=True, track_running_stats=True)\n",
       "                (upsample0): Upsample(scale_factor=2, mode=bilinear)\n",
       "                (conv0_1x1_2): ConvTranspose2d(768, 16, kernel_size=(1, 1), stride=(2, 2), output_padding=(1, 1))\n",
       "                (bconv0_1x1_2): BatchNorm2d(16, eps=1e-05, momentum=0.1, affine=True, track_running_stats=True)\n",
       "                (conv1_3x3): ConvTranspose2d(16, 32, kernel_size=(3, 3), stride=(1, 1), padding=(1, 1))\n",
       "                (bconv1_3x3): BatchNorm2d(32, eps=1e-05, momentum=0.1, affine=True, track_running_stats=True)\n",
       "                (conv1_5x5): ConvTranspose2d(16, 32, kernel_size=(5, 5), stride=(1, 1), padding=(2, 2))\n",
       "                (bconv1_5x5): BatchNorm2d(32, eps=1e-05, momentum=0.1, affine=True, track_running_stats=True)\n",
       "                (conv1_1x1): ConvTranspose2d(768, 32, kernel_size=(1, 1), stride=(1, 1))\n",
       "                (bconv1_1x1): BatchNorm2d(32, eps=1e-05, momentum=0.1, affine=True, track_running_stats=True)\n",
       "              )\n",
       "              (9): BatchNorm2d(128, eps=1e-05, momentum=0.1, affine=True, track_running_stats=True)\n",
       "            )\n",
       "          )\n",
       "          (4): ReLU(inplace)\n",
       "          (5): InceptionUp(\n",
       "            (act): LeakyReLU(negative_slope=0.2, inplace)\n",
       "            (conv0_1x1_0): ConvTranspose2d(256, 16, kernel_size=(1, 1), stride=(2, 2), output_padding=(1, 1))\n",
       "            (bconv0_1x1_0): BatchNorm2d(16, eps=1e-05, momentum=0.1, affine=True, track_running_stats=True)\n",
       "            (conv0_1x1_1): ConvTranspose2d(256, 16, kernel_size=(1, 1), stride=(2, 2), output_padding=(1, 1))\n",
       "            (bconv0_1x1_1): BatchNorm2d(16, eps=1e-05, momentum=0.1, affine=True, track_running_stats=True)\n",
       "            (upsample0): Upsample(scale_factor=2, mode=bilinear)\n",
       "            (conv0_1x1_2): ConvTranspose2d(256, 16, kernel_size=(1, 1), stride=(2, 2), output_padding=(1, 1))\n",
       "            (bconv0_1x1_2): BatchNorm2d(16, eps=1e-05, momentum=0.1, affine=True, track_running_stats=True)\n",
       "            (conv1_3x3): ConvTranspose2d(16, 16, kernel_size=(3, 3), stride=(1, 1), padding=(1, 1))\n",
       "            (bconv1_3x3): BatchNorm2d(16, eps=1e-05, momentum=0.1, affine=True, track_running_stats=True)\n",
       "            (conv1_5x5): ConvTranspose2d(16, 16, kernel_size=(5, 5), stride=(1, 1), padding=(2, 2))\n",
       "            (bconv1_5x5): BatchNorm2d(16, eps=1e-05, momentum=0.1, affine=True, track_running_stats=True)\n",
       "            (conv1_1x1): ConvTranspose2d(256, 16, kernel_size=(1, 1), stride=(1, 1))\n",
       "            (bconv1_1x1): BatchNorm2d(16, eps=1e-05, momentum=0.1, affine=True, track_running_stats=True)\n",
       "          )\n",
       "          (6): BatchNorm2d(64, eps=1e-05, momentum=0.1, affine=True, track_running_stats=True)\n",
       "        )\n",
       "      )\n",
       "      (2): ReLU(inplace)\n",
       "      (3): ConvTranspose2d(128, 3, kernel_size=(4, 4), stride=(2, 2), padding=(1, 1))\n",
       "      (4): Tanh()\n",
       "    )\n",
       "  )\n",
       ")"
      ]
     },
     "execution_count": 10,
     "metadata": {},
     "output_type": "execute_result"
    }
   ],
   "source": [
    "inception_unet = InceptionUnetGeneratorShiftTriple(input_nc, output_nc, num_downs, opt, innerCos_list, shift_list, mask_global.cuda())\n",
    "inception_unet.cuda()"
   ]
  },
  {
   "cell_type": "code",
   "execution_count": 11,
   "metadata": {},
   "outputs": [],
   "source": [
    "def count_params(model):\n",
    "    nb_params = 0\n",
    "    for param in model.parameters():\n",
    "        if param is not None:\n",
    "            nb_params += np.product(param.shape)\n",
    "    return nb_params"
   ]
  },
  {
   "cell_type": "code",
   "execution_count": 12,
   "metadata": {},
   "outputs": [
    {
     "data": {
      "text/plain": [
       "3541107"
      ]
     },
     "execution_count": 12,
     "metadata": {},
     "output_type": "execute_result"
    }
   ],
   "source": [
    "count_params(inception_unet)"
   ]
  },
  {
   "cell_type": "code",
   "execution_count": 13,
   "metadata": {},
   "outputs": [],
   "source": [
    "x_np = np.random.normal(0, 1, (1, 3, 256, 256))\n",
    "x_tr = torch.FloatTensor(x_np)\n",
    "inception_unet = inception_unet.cuda()"
   ]
  },
  {
   "cell_type": "code",
   "execution_count": 14,
   "metadata": {},
   "outputs": [
    {
     "name": "stdout",
     "output_type": "stream",
     "text": [
      "CPU times: user 120 ms, sys: 16 ms, total: 136 ms\n",
      "Wall time: 135 ms\n"
     ]
    },
    {
     "name": "stderr",
     "output_type": "stream",
     "text": [
      "/home/tchaton/virtualenvs/labelbox/lib/python3.6/site-packages/torch/nn/modules/upsampling.py:122: UserWarning: nn.Upsampling is deprecated. Use nn.functional.interpolate instead.\n",
      "  warnings.warn(\"nn.Upsampling is deprecated. Use nn.functional.interpolate instead.\")\n"
     ]
    }
   ],
   "source": [
    "%time output = inception_unet(x_tr.cuda())"
   ]
  },
  {
   "cell_type": "code",
   "execution_count": 15,
   "metadata": {},
   "outputs": [],
   "source": [
    "inception = InceptionDown(128, 256)"
   ]
  },
  {
   "cell_type": "code",
   "execution_count": 16,
   "metadata": {},
   "outputs": [],
   "source": [
    "x_np = np.random.normal(0, 1, (1, 128, 64, 64))\n",
    "x_tr = torch.FloatTensor(x_np)"
   ]
  },
  {
   "cell_type": "code",
   "execution_count": 17,
   "metadata": {},
   "outputs": [
    {
     "name": "stdout",
     "output_type": "stream",
     "text": [
      "CPU times: user 1.14 s, sys: 72 ms, total: 1.21 s\n",
      "Wall time: 84.4 ms\n"
     ]
    }
   ],
   "source": [
    "%time output = inception(x_tr)"
   ]
  },
  {
   "cell_type": "code",
   "execution_count": 18,
   "metadata": {},
   "outputs": [],
   "source": [
    "inception = InceptionUp(128, 32)"
   ]
  },
  {
   "cell_type": "code",
   "execution_count": 19,
   "metadata": {},
   "outputs": [
    {
     "name": "stdout",
     "output_type": "stream",
     "text": [
      "36.5 ms ± 4.63 ms per loop (mean ± std. dev. of 7 runs, 10 loops each)\n"
     ]
    }
   ],
   "source": [
    "%timeit output = inception(x_tr)"
   ]
  },
  {
   "cell_type": "code",
   "execution_count": 20,
   "metadata": {},
   "outputs": [
    {
     "data": {
      "text/plain": [
       "torch.Size([1, 256, 32, 32])"
      ]
     },
     "execution_count": 20,
     "metadata": {},
     "output_type": "execute_result"
    }
   ],
   "source": [
    "output.shape"
   ]
  },
  {
   "cell_type": "code",
   "execution_count": null,
   "metadata": {},
   "outputs": [],
   "source": []
  }
 ],
 "metadata": {
  "kernelspec": {
   "display_name": "Python 3",
   "language": "python",
   "name": "python3"
  },
  "language_info": {
   "codemirror_mode": {
    "name": "ipython",
    "version": 3
   },
   "file_extension": ".py",
   "mimetype": "text/x-python",
   "name": "python",
   "nbconvert_exporter": "python",
   "pygments_lexer": "ipython3",
   "version": "3.6.4"
  }
 },
 "nbformat": 4,
 "nbformat_minor": 2
}
